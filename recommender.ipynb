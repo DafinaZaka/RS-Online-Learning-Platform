{
 "cells": [
  {
   "cell_type": "code",
   "execution_count": 1,
   "metadata": {},
   "outputs": [],
   "source": [
    "import numpy as np\n",
    "import csv\n",
    "import pandas as pd\n",
    "import matplotlib.pyplot as plt\n",
    "from translate import Translator"
   ]
  },
  {
   "cell_type": "code",
   "execution_count": 2,
   "metadata": {},
   "outputs": [
    {
     "data": {
      "text/html": [
       "<div>\n",
       "<style scoped>\n",
       "    .dataframe tbody tr th:only-of-type {\n",
       "        vertical-align: middle;\n",
       "    }\n",
       "\n",
       "    .dataframe tbody tr th {\n",
       "        vertical-align: top;\n",
       "    }\n",
       "\n",
       "    .dataframe thead th {\n",
       "        text-align: right;\n",
       "    }\n",
       "</style>\n",
       "<table border=\"1\" class=\"dataframe\">\n",
       "  <thead>\n",
       "    <tr style=\"text-align: right;\">\n",
       "      <th></th>\n",
       "      <th>Website</th>\n",
       "      <th>Course Name</th>\n",
       "      <th>University</th>\n",
       "      <th>Difficulty Level</th>\n",
       "      <th>Course Rating</th>\n",
       "      <th>Course URL</th>\n",
       "      <th>Course Description</th>\n",
       "      <th>Skills</th>\n",
       "    </tr>\n",
       "  </thead>\n",
       "  <tbody>\n",
       "    <tr>\n",
       "      <th>0</th>\n",
       "      <td>Coursera</td>\n",
       "      <td>Write A Feature Length Screenplay For Film Or ...</td>\n",
       "      <td>Michigan State University</td>\n",
       "      <td>Beginner</td>\n",
       "      <td>4.8</td>\n",
       "      <td>https://www.coursera.org/learn/write-a-feature...</td>\n",
       "      <td>Write a Full Length Feature Film Script  In th...</td>\n",
       "      <td>Drama  Comedy  peering  screenwriting  film  D...</td>\n",
       "    </tr>\n",
       "    <tr>\n",
       "      <th>1</th>\n",
       "      <td>Coursera</td>\n",
       "      <td>Business Strategy: Business Model Canvas Analy...</td>\n",
       "      <td>Coursera Project Network</td>\n",
       "      <td>Beginner</td>\n",
       "      <td>4.8</td>\n",
       "      <td>https://www.coursera.org/learn/canvas-analysis...</td>\n",
       "      <td>By the end of this guided project, you will be...</td>\n",
       "      <td>Finance  business plan  persona (user experien...</td>\n",
       "    </tr>\n",
       "    <tr>\n",
       "      <th>2</th>\n",
       "      <td>Coursera</td>\n",
       "      <td>Silicon Thin Film Solar Cells</td>\n",
       "      <td>École Polytechnique</td>\n",
       "      <td>Advanced</td>\n",
       "      <td>4.1</td>\n",
       "      <td>https://www.coursera.org/learn/silicon-thin-fi...</td>\n",
       "      <td>This course consists of a general presentation...</td>\n",
       "      <td>chemistry  physics  Solar Energy  film  lambda...</td>\n",
       "    </tr>\n",
       "    <tr>\n",
       "      <th>3</th>\n",
       "      <td>Coursera</td>\n",
       "      <td>Finance for Managers</td>\n",
       "      <td>IESE Business School</td>\n",
       "      <td>Intermediate</td>\n",
       "      <td>4.8</td>\n",
       "      <td>https://www.coursera.org/learn/operational-fin...</td>\n",
       "      <td>When it comes to numbers, there is always more...</td>\n",
       "      <td>accounts receivable  dupont analysis  analysis...</td>\n",
       "    </tr>\n",
       "    <tr>\n",
       "      <th>4</th>\n",
       "      <td>Coursera</td>\n",
       "      <td>Retrieve Data using Single-Table SQL Queries</td>\n",
       "      <td>Coursera Project Network</td>\n",
       "      <td>Beginner</td>\n",
       "      <td>4.6</td>\n",
       "      <td>https://www.coursera.org/learn/single-table-sq...</td>\n",
       "      <td>In this course you�ll learn how to effectively...</td>\n",
       "      <td>Data Analysis  select (sql)  database manageme...</td>\n",
       "    </tr>\n",
       "  </tbody>\n",
       "</table>\n",
       "</div>"
      ],
      "text/plain": [
       "    Website                                        Course Name  \\\n",
       "0  Coursera  Write A Feature Length Screenplay For Film Or ...   \n",
       "1  Coursera  Business Strategy: Business Model Canvas Analy...   \n",
       "2  Coursera                      Silicon Thin Film Solar Cells   \n",
       "3  Coursera                               Finance for Managers   \n",
       "4  Coursera       Retrieve Data using Single-Table SQL Queries   \n",
       "\n",
       "                  University Difficulty Level Course Rating  \\\n",
       "0  Michigan State University         Beginner           4.8   \n",
       "1   Coursera Project Network         Beginner           4.8   \n",
       "2        École Polytechnique         Advanced           4.1   \n",
       "3       IESE Business School     Intermediate           4.8   \n",
       "4   Coursera Project Network         Beginner           4.6   \n",
       "\n",
       "                                          Course URL  \\\n",
       "0  https://www.coursera.org/learn/write-a-feature...   \n",
       "1  https://www.coursera.org/learn/canvas-analysis...   \n",
       "2  https://www.coursera.org/learn/silicon-thin-fi...   \n",
       "3  https://www.coursera.org/learn/operational-fin...   \n",
       "4  https://www.coursera.org/learn/single-table-sq...   \n",
       "\n",
       "                                  Course Description  \\\n",
       "0  Write a Full Length Feature Film Script  In th...   \n",
       "1  By the end of this guided project, you will be...   \n",
       "2  This course consists of a general presentation...   \n",
       "3  When it comes to numbers, there is always more...   \n",
       "4  In this course you�ll learn how to effectively...   \n",
       "\n",
       "                                              Skills  \n",
       "0  Drama  Comedy  peering  screenwriting  film  D...  \n",
       "1  Finance  business plan  persona (user experien...  \n",
       "2  chemistry  physics  Solar Energy  film  lambda...  \n",
       "3  accounts receivable  dupont analysis  analysis...  \n",
       "4  Data Analysis  select (sql)  database manageme...  "
      ]
     },
     "execution_count": 2,
     "metadata": {},
     "output_type": "execute_result"
    }
   ],
   "source": [
    "coursera=  pd.read_csv(\"data/Coursera.csv\")\n",
    "edx= pd.read_csv(\"data/EdX.csv\")\n",
    "udacity= pd.read_csv(\"data/Udacity.csv\")\n",
    "\n",
    "coursera['University'] = coursera['University'].apply(lambda x: 'É' + x[1:] if x.startswith('�') else 'é' + x[1:] if '�' in x else x)\n",
    "coursera['University'] = coursera['University'].replace('École Polytechnique F�d�rale de Lausanne', 'École Polytechnique Fédérale de Lausanne')\n",
    "# Add a new column named \"Website\" with the value \"Coursera\" in each row\n",
    "coursera.insert(0, \"Website\", \"Coursera\")\n",
    "edx.insert(0, \"Website\", \"EdX\")\n",
    "udacity.insert(0, \"Website\", \"Udacity\")\n",
    "\n",
    "coursera.head(5)"
   ]
  },
  {
   "cell_type": "code",
   "execution_count": 3,
   "metadata": {},
   "outputs": [
    {
     "data": {
      "text/html": [
       "<div>\n",
       "<style scoped>\n",
       "    .dataframe tbody tr th:only-of-type {\n",
       "        vertical-align: middle;\n",
       "    }\n",
       "\n",
       "    .dataframe tbody tr th {\n",
       "        vertical-align: top;\n",
       "    }\n",
       "\n",
       "    .dataframe thead th {\n",
       "        text-align: right;\n",
       "    }\n",
       "</style>\n",
       "<table border=\"1\" class=\"dataframe\">\n",
       "  <thead>\n",
       "    <tr style=\"text-align: right;\">\n",
       "      <th></th>\n",
       "      <th>Website</th>\n",
       "      <th>Name</th>\n",
       "      <th>Institution</th>\n",
       "      <th>Difficulty Level</th>\n",
       "      <th>Course Rating</th>\n",
       "      <th>Link</th>\n",
       "      <th>Course Description</th>\n",
       "    </tr>\n",
       "  </thead>\n",
       "  <tbody>\n",
       "    <tr>\n",
       "      <th>0</th>\n",
       "      <td>Coursera</td>\n",
       "      <td>Write A Feature Length Screenplay For Film Or ...</td>\n",
       "      <td>Michigan State University</td>\n",
       "      <td>Beginner</td>\n",
       "      <td>4.8</td>\n",
       "      <td>https://www.coursera.org/learn/write-a-feature...</td>\n",
       "      <td>Write a Full Length Feature Film Script  In th...</td>\n",
       "    </tr>\n",
       "    <tr>\n",
       "      <th>1</th>\n",
       "      <td>Coursera</td>\n",
       "      <td>Business Strategy: Business Model Canvas Analy...</td>\n",
       "      <td>Coursera Project Network</td>\n",
       "      <td>Beginner</td>\n",
       "      <td>4.8</td>\n",
       "      <td>https://www.coursera.org/learn/canvas-analysis...</td>\n",
       "      <td>By the end of this guided project, you will be...</td>\n",
       "    </tr>\n",
       "    <tr>\n",
       "      <th>2</th>\n",
       "      <td>Coursera</td>\n",
       "      <td>Silicon Thin Film Solar Cells</td>\n",
       "      <td>École Polytechnique</td>\n",
       "      <td>Advanced</td>\n",
       "      <td>4.1</td>\n",
       "      <td>https://www.coursera.org/learn/silicon-thin-fi...</td>\n",
       "      <td>This course consists of a general presentation...</td>\n",
       "    </tr>\n",
       "    <tr>\n",
       "      <th>3</th>\n",
       "      <td>Coursera</td>\n",
       "      <td>Finance for Managers</td>\n",
       "      <td>IESE Business School</td>\n",
       "      <td>Intermediate</td>\n",
       "      <td>4.8</td>\n",
       "      <td>https://www.coursera.org/learn/operational-fin...</td>\n",
       "      <td>When it comes to numbers, there is always more...</td>\n",
       "    </tr>\n",
       "    <tr>\n",
       "      <th>4</th>\n",
       "      <td>Coursera</td>\n",
       "      <td>Retrieve Data using Single-Table SQL Queries</td>\n",
       "      <td>Coursera Project Network</td>\n",
       "      <td>Beginner</td>\n",
       "      <td>4.6</td>\n",
       "      <td>https://www.coursera.org/learn/single-table-sq...</td>\n",
       "      <td>In this course you�ll learn how to effectively...</td>\n",
       "    </tr>\n",
       "  </tbody>\n",
       "</table>\n",
       "</div>"
      ],
      "text/plain": [
       "    Website                                               Name  \\\n",
       "0  Coursera  Write A Feature Length Screenplay For Film Or ...   \n",
       "1  Coursera  Business Strategy: Business Model Canvas Analy...   \n",
       "2  Coursera                      Silicon Thin Film Solar Cells   \n",
       "3  Coursera                               Finance for Managers   \n",
       "4  Coursera       Retrieve Data using Single-Table SQL Queries   \n",
       "\n",
       "                 Institution Difficulty Level Course Rating  \\\n",
       "0  Michigan State University         Beginner           4.8   \n",
       "1   Coursera Project Network         Beginner           4.8   \n",
       "2        École Polytechnique         Advanced           4.1   \n",
       "3       IESE Business School     Intermediate           4.8   \n",
       "4   Coursera Project Network         Beginner           4.6   \n",
       "\n",
       "                                                Link  \\\n",
       "0  https://www.coursera.org/learn/write-a-feature...   \n",
       "1  https://www.coursera.org/learn/canvas-analysis...   \n",
       "2  https://www.coursera.org/learn/silicon-thin-fi...   \n",
       "3  https://www.coursera.org/learn/operational-fin...   \n",
       "4  https://www.coursera.org/learn/single-table-sq...   \n",
       "\n",
       "                                  Course Description  \n",
       "0  Write a Full Length Feature Film Script  In th...  \n",
       "1  By the end of this guided project, you will be...  \n",
       "2  This course consists of a general presentation...  \n",
       "3  When it comes to numbers, there is always more...  \n",
       "4  In this course you�ll learn how to effectively...  "
      ]
     },
     "execution_count": 3,
     "metadata": {},
     "output_type": "execute_result"
    }
   ],
   "source": [
    "# Rename the \"Course Type\" column to \"Type of Course\"\n",
    "coursera = coursera.rename(columns={\"Course URL\": \"Link\"})\n",
    "coursera = coursera.rename(columns={\"University\": \"Institution\"})\n",
    "coursera = coursera.rename(columns={\"Course Name\": \"Name\"})\n",
    "coursera['Course Description'] = coursera['Course Description'] + coursera['Skills']\n",
    "# Keeping important columns for recommendation\n",
    "coursera = coursera[['Website','Name','Institution', 'Difficulty Level', 'Course Rating','Link','Course Description']]\n",
    "coursera.head(5)"
   ]
  },
  {
   "cell_type": "code",
   "execution_count": 4,
   "metadata": {},
   "outputs": [
    {
     "data": {
      "text/plain": [
       "(3522, 7)"
      ]
     },
     "execution_count": 4,
     "metadata": {},
     "output_type": "execute_result"
    }
   ],
   "source": [
    "coursera.shape"
   ]
  },
  {
   "cell_type": "code",
   "execution_count": 5,
   "metadata": {},
   "outputs": [
    {
     "data": {
      "text/html": [
       "<div>\n",
       "<style scoped>\n",
       "    .dataframe tbody tr th:only-of-type {\n",
       "        vertical-align: middle;\n",
       "    }\n",
       "\n",
       "    .dataframe tbody tr th {\n",
       "        vertical-align: top;\n",
       "    }\n",
       "\n",
       "    .dataframe thead th {\n",
       "        text-align: right;\n",
       "    }\n",
       "</style>\n",
       "<table border=\"1\" class=\"dataframe\">\n",
       "  <thead>\n",
       "    <tr style=\"text-align: right;\">\n",
       "      <th></th>\n",
       "      <th>Website</th>\n",
       "      <th>Name</th>\n",
       "      <th>Institution</th>\n",
       "      <th>Difficulty Level</th>\n",
       "      <th>Link</th>\n",
       "      <th>Course Description</th>\n",
       "    </tr>\n",
       "  </thead>\n",
       "  <tbody>\n",
       "    <tr>\n",
       "      <th>0</th>\n",
       "      <td>EdX</td>\n",
       "      <td>How to Learn Online</td>\n",
       "      <td>edX</td>\n",
       "      <td>Beginner</td>\n",
       "      <td>https://www.edx.org/course/how-to-learn-online</td>\n",
       "      <td>Designed for those who are new to elearning, t...</td>\n",
       "    </tr>\n",
       "    <tr>\n",
       "      <th>1</th>\n",
       "      <td>EdX</td>\n",
       "      <td>Programming for Everybody (Getting Started wit...</td>\n",
       "      <td>The University of Michigan</td>\n",
       "      <td>Beginner</td>\n",
       "      <td>https://www.edx.org/course/programming-for-eve...</td>\n",
       "      <td>This course aims to teach everyone the basics ...</td>\n",
       "    </tr>\n",
       "    <tr>\n",
       "      <th>2</th>\n",
       "      <td>EdX</td>\n",
       "      <td>CS50's Introduction to Computer Science</td>\n",
       "      <td>Harvard University</td>\n",
       "      <td>Beginner</td>\n",
       "      <td>https://www.edx.org/course/cs50s-introduction-...</td>\n",
       "      <td>This is CS50x , Harvard University's introduct...</td>\n",
       "    </tr>\n",
       "    <tr>\n",
       "      <th>3</th>\n",
       "      <td>EdX</td>\n",
       "      <td>The Analytics Edge</td>\n",
       "      <td>Massachusetts Institute of Technology</td>\n",
       "      <td>Intermediate</td>\n",
       "      <td>https://www.edx.org/course/the-analytics-edge</td>\n",
       "      <td>In the last decade, the amount of data availab...</td>\n",
       "    </tr>\n",
       "    <tr>\n",
       "      <th>4</th>\n",
       "      <td>EdX</td>\n",
       "      <td>Marketing Analytics: Marketing Measurement Str...</td>\n",
       "      <td>University of California, Berkeley</td>\n",
       "      <td>Beginner</td>\n",
       "      <td>https://www.edx.org/course/marketing-analytics...</td>\n",
       "      <td>Begin your journey in a new career in marketin...</td>\n",
       "    </tr>\n",
       "  </tbody>\n",
       "</table>\n",
       "</div>"
      ],
      "text/plain": [
       "  Website                                               Name  \\\n",
       "0     EdX                                How to Learn Online   \n",
       "1     EdX  Programming for Everybody (Getting Started wit...   \n",
       "2     EdX            CS50's Introduction to Computer Science   \n",
       "3     EdX                                 The Analytics Edge   \n",
       "4     EdX  Marketing Analytics: Marketing Measurement Str...   \n",
       "\n",
       "                             Institution Difficulty Level  \\\n",
       "0                                    edX         Beginner   \n",
       "1             The University of Michigan         Beginner   \n",
       "2                     Harvard University         Beginner   \n",
       "3  Massachusetts Institute of Technology     Intermediate   \n",
       "4     University of California, Berkeley         Beginner   \n",
       "\n",
       "                                                Link  \\\n",
       "0     https://www.edx.org/course/how-to-learn-online   \n",
       "1  https://www.edx.org/course/programming-for-eve...   \n",
       "2  https://www.edx.org/course/cs50s-introduction-...   \n",
       "3      https://www.edx.org/course/the-analytics-edge   \n",
       "4  https://www.edx.org/course/marketing-analytics...   \n",
       "\n",
       "                                  Course Description  \n",
       "0  Designed for those who are new to elearning, t...  \n",
       "1  This course aims to teach everyone the basics ...  \n",
       "2  This is CS50x , Harvard University's introduct...  \n",
       "3  In the last decade, the amount of data availab...  \n",
       "4  Begin your journey in a new career in marketin...  "
      ]
     },
     "execution_count": 5,
     "metadata": {},
     "output_type": "execute_result"
    }
   ],
   "source": [
    "edx = edx.rename(columns={\"University\": \"Institution\"})\n",
    "edx['Course Description'] = edx['Course Description'] + edx['About']\n",
    "# Keeping important columns for recommendation\n",
    "edx = edx[['Website','Name','Institution','Difficulty Level','Link','Course Description']]\n",
    "edx.head(5)"
   ]
  },
  {
   "cell_type": "code",
   "execution_count": 6,
   "metadata": {},
   "outputs": [
    {
     "data": {
      "text/plain": [
       "(720, 6)"
      ]
     },
     "execution_count": 6,
     "metadata": {},
     "output_type": "execute_result"
    }
   ],
   "source": [
    "edx.shape"
   ]
  },
  {
   "cell_type": "code",
   "execution_count": 7,
   "metadata": {},
   "outputs": [
    {
     "data": {
      "text/html": [
       "<div>\n",
       "<style scoped>\n",
       "    .dataframe tbody tr th:only-of-type {\n",
       "        vertical-align: middle;\n",
       "    }\n",
       "\n",
       "    .dataframe tbody tr th {\n",
       "        vertical-align: top;\n",
       "    }\n",
       "\n",
       "    .dataframe thead th {\n",
       "        text-align: right;\n",
       "    }\n",
       "</style>\n",
       "<table border=\"1\" class=\"dataframe\">\n",
       "  <thead>\n",
       "    <tr style=\"text-align: right;\">\n",
       "      <th></th>\n",
       "      <th>Website</th>\n",
       "      <th>Name</th>\n",
       "      <th>Institution</th>\n",
       "      <th>Difficulty Level</th>\n",
       "      <th>Course Rating</th>\n",
       "      <th>Link</th>\n",
       "      <th>Course Description</th>\n",
       "    </tr>\n",
       "  </thead>\n",
       "  <tbody>\n",
       "    <tr>\n",
       "      <th>0</th>\n",
       "      <td>Udacity</td>\n",
       "      <td>Data Engineer</td>\n",
       "      <td>School of Data Science</td>\n",
       "      <td>Intermediate</td>\n",
       "      <td>4.6</td>\n",
       "      <td>https://www.udacity.com//course/data-engineer-...</td>\n",
       "      <td>Data Engineering is the foundation for the new...</td>\n",
       "    </tr>\n",
       "    <tr>\n",
       "      <th>1</th>\n",
       "      <td>Udacity</td>\n",
       "      <td>Data Scientist</td>\n",
       "      <td>School of Data Science</td>\n",
       "      <td>Advanced</td>\n",
       "      <td>4.7</td>\n",
       "      <td>https://www.udacity.com//course/data-scientist...</td>\n",
       "      <td>Build effective machine learning models, run d...</td>\n",
       "    </tr>\n",
       "    <tr>\n",
       "      <th>2</th>\n",
       "      <td>Udacity</td>\n",
       "      <td>Data Analyst</td>\n",
       "      <td>School of Data Science</td>\n",
       "      <td>Intermediate</td>\n",
       "      <td>4.6</td>\n",
       "      <td>https://www.udacity.com//course/data-analyst-n...</td>\n",
       "      <td>Use Python, SQL, and statistics to uncover ins...</td>\n",
       "    </tr>\n",
       "    <tr>\n",
       "      <th>3</th>\n",
       "      <td>Udacity</td>\n",
       "      <td>C++</td>\n",
       "      <td>School of Autonomous Systems</td>\n",
       "      <td>Intermediate</td>\n",
       "      <td>4.6</td>\n",
       "      <td>https://www.udacity.com//course/c-plus-plus-na...</td>\n",
       "      <td>Get hands-on experience by building five real-...</td>\n",
       "    </tr>\n",
       "    <tr>\n",
       "      <th>4</th>\n",
       "      <td>Udacity</td>\n",
       "      <td>Product Manager</td>\n",
       "      <td>School of Product Management</td>\n",
       "      <td>Beginner</td>\n",
       "      <td>4.7</td>\n",
       "      <td>https://www.udacity.com//course/product-manage...</td>\n",
       "      <td>Envision and execute the development of indust...</td>\n",
       "    </tr>\n",
       "  </tbody>\n",
       "</table>\n",
       "</div>"
      ],
      "text/plain": [
       "   Website             Name                   Institution Difficulty Level  \\\n",
       "0  Udacity    Data Engineer        School of Data Science     Intermediate   \n",
       "1  Udacity   Data Scientist        School of Data Science         Advanced   \n",
       "2  Udacity     Data Analyst        School of Data Science     Intermediate   \n",
       "3  Udacity              C++  School of Autonomous Systems     Intermediate   \n",
       "4  Udacity  Product Manager  School of Product Management         Beginner   \n",
       "\n",
       "  Course Rating                                               Link  \\\n",
       "0           4.6  https://www.udacity.com//course/data-engineer-...   \n",
       "1           4.7  https://www.udacity.com//course/data-scientist...   \n",
       "2           4.6  https://www.udacity.com//course/data-analyst-n...   \n",
       "3           4.6  https://www.udacity.com//course/c-plus-plus-na...   \n",
       "4           4.7  https://www.udacity.com//course/product-manage...   \n",
       "\n",
       "                                  Course Description  \n",
       "0  Data Engineering is the foundation for the new...  \n",
       "1  Build effective machine learning models, run d...  \n",
       "2  Use Python, SQL, and statistics to uncover ins...  \n",
       "3  Get hands-on experience by building five real-...  \n",
       "4  Envision and execute the development of indust...  "
      ]
     },
     "execution_count": 7,
     "metadata": {},
     "output_type": "execute_result"
    }
   ],
   "source": [
    "udacity = udacity.rename(columns={\"School\": \"Institution\"})\n",
    "udacity = udacity.rename(columns={\"Rating\": \"Course Rating\"})\n",
    "udacity = udacity.rename(columns={\"About\": \"Course Description\"})\n",
    "udacity.head(5)"
   ]
  },
  {
   "cell_type": "code",
   "execution_count": 8,
   "metadata": {},
   "outputs": [
    {
     "data": {
      "text/plain": [
       "(720, 6)"
      ]
     },
     "execution_count": 8,
     "metadata": {},
     "output_type": "execute_result"
    }
   ],
   "source": [
    "edx.shape"
   ]
  },
  {
   "cell_type": "code",
   "execution_count": 9,
   "metadata": {},
   "outputs": [
    {
     "data": {
      "text/plain": [
       "98"
      ]
     },
     "execution_count": 9,
     "metadata": {},
     "output_type": "execute_result"
    }
   ],
   "source": [
    "coursera.duplicated().sum()"
   ]
  },
  {
   "cell_type": "code",
   "execution_count": 10,
   "metadata": {},
   "outputs": [],
   "source": [
    "coursera.drop_duplicates(inplace=True)"
   ]
  },
  {
   "cell_type": "code",
   "execution_count": 11,
   "metadata": {},
   "outputs": [
    {
     "data": {
      "text/plain": [
       "0"
      ]
     },
     "execution_count": 11,
     "metadata": {},
     "output_type": "execute_result"
    }
   ],
   "source": [
    "coursera.duplicated().sum()"
   ]
  },
  {
   "cell_type": "code",
   "execution_count": 12,
   "metadata": {},
   "outputs": [
    {
     "data": {
      "text/plain": [
       "0"
      ]
     },
     "execution_count": 12,
     "metadata": {},
     "output_type": "execute_result"
    }
   ],
   "source": [
    "udacity.duplicated().sum()"
   ]
  },
  {
   "cell_type": "code",
   "execution_count": 13,
   "metadata": {},
   "outputs": [
    {
     "data": {
      "text/plain": [
       "1"
      ]
     },
     "execution_count": 13,
     "metadata": {},
     "output_type": "execute_result"
    }
   ],
   "source": [
    "edx.duplicated().sum()"
   ]
  },
  {
   "cell_type": "code",
   "execution_count": 14,
   "metadata": {},
   "outputs": [],
   "source": [
    "edx.drop_duplicates(inplace=True)"
   ]
  },
  {
   "cell_type": "code",
   "execution_count": 15,
   "metadata": {},
   "outputs": [
    {
     "data": {
      "text/plain": [
       "0"
      ]
     },
     "execution_count": 15,
     "metadata": {},
     "output_type": "execute_result"
    }
   ],
   "source": [
    "edx.duplicated().sum()"
   ]
  },
  {
   "cell_type": "code",
   "execution_count": null,
   "metadata": {},
   "outputs": [],
   "source": []
  },
  {
   "cell_type": "code",
   "execution_count": 16,
   "metadata": {},
   "outputs": [
    {
     "data": {
      "text/html": [
       "<div>\n",
       "<style scoped>\n",
       "    .dataframe tbody tr th:only-of-type {\n",
       "        vertical-align: middle;\n",
       "    }\n",
       "\n",
       "    .dataframe tbody tr th {\n",
       "        vertical-align: top;\n",
       "    }\n",
       "\n",
       "    .dataframe thead th {\n",
       "        text-align: right;\n",
       "    }\n",
       "</style>\n",
       "<table border=\"1\" class=\"dataframe\">\n",
       "  <thead>\n",
       "    <tr style=\"text-align: right;\">\n",
       "      <th></th>\n",
       "      <th>Website</th>\n",
       "      <th>Name</th>\n",
       "      <th>Institution</th>\n",
       "      <th>Difficulty Level</th>\n",
       "      <th>Course Rating</th>\n",
       "      <th>Link</th>\n",
       "      <th>Course Description</th>\n",
       "    </tr>\n",
       "  </thead>\n",
       "  <tbody>\n",
       "    <tr>\n",
       "      <th>0</th>\n",
       "      <td>Coursera</td>\n",
       "      <td>Write A Feature Length Screenplay For Film Or ...</td>\n",
       "      <td>Michigan State University</td>\n",
       "      <td>Beginner</td>\n",
       "      <td>4.8</td>\n",
       "      <td>https://www.coursera.org/learn/write-a-feature...</td>\n",
       "      <td>Write a Full Length Feature Film Script  In th...</td>\n",
       "    </tr>\n",
       "    <tr>\n",
       "      <th>1</th>\n",
       "      <td>Coursera</td>\n",
       "      <td>Business Strategy: Business Model Canvas Analy...</td>\n",
       "      <td>Coursera Project Network</td>\n",
       "      <td>Beginner</td>\n",
       "      <td>4.8</td>\n",
       "      <td>https://www.coursera.org/learn/canvas-analysis...</td>\n",
       "      <td>By the end of this guided project, you will be...</td>\n",
       "    </tr>\n",
       "    <tr>\n",
       "      <th>2</th>\n",
       "      <td>Coursera</td>\n",
       "      <td>Silicon Thin Film Solar Cells</td>\n",
       "      <td>École Polytechnique</td>\n",
       "      <td>Advanced</td>\n",
       "      <td>4.1</td>\n",
       "      <td>https://www.coursera.org/learn/silicon-thin-fi...</td>\n",
       "      <td>This course consists of a general presentation...</td>\n",
       "    </tr>\n",
       "    <tr>\n",
       "      <th>3</th>\n",
       "      <td>Coursera</td>\n",
       "      <td>Finance for Managers</td>\n",
       "      <td>IESE Business School</td>\n",
       "      <td>Intermediate</td>\n",
       "      <td>4.8</td>\n",
       "      <td>https://www.coursera.org/learn/operational-fin...</td>\n",
       "      <td>When it comes to numbers, there is always more...</td>\n",
       "    </tr>\n",
       "    <tr>\n",
       "      <th>4</th>\n",
       "      <td>Coursera</td>\n",
       "      <td>Retrieve Data using Single-Table SQL Queries</td>\n",
       "      <td>Coursera Project Network</td>\n",
       "      <td>Beginner</td>\n",
       "      <td>4.6</td>\n",
       "      <td>https://www.coursera.org/learn/single-table-sq...</td>\n",
       "      <td>In this course you�ll learn how to effectively...</td>\n",
       "    </tr>\n",
       "    <tr>\n",
       "      <th>...</th>\n",
       "      <td>...</td>\n",
       "      <td>...</td>\n",
       "      <td>...</td>\n",
       "      <td>...</td>\n",
       "      <td>...</td>\n",
       "      <td>...</td>\n",
       "      <td>...</td>\n",
       "    </tr>\n",
       "    <tr>\n",
       "      <th>4401</th>\n",
       "      <td>Udacity</td>\n",
       "      <td>Front-End Interview Prep</td>\n",
       "      <td>Career Advancement</td>\n",
       "      <td>Intermediate</td>\n",
       "      <td>None</td>\n",
       "      <td>https://www.udacity.com//course/front-end-inte...</td>\n",
       "      <td>Answer front-end technical and behavioral inte...</td>\n",
       "    </tr>\n",
       "    <tr>\n",
       "      <th>4402</th>\n",
       "      <td>Udacity</td>\n",
       "      <td>Full-Stack Interview Prep</td>\n",
       "      <td>Career Advancement</td>\n",
       "      <td>Intermediate</td>\n",
       "      <td>None</td>\n",
       "      <td>https://www.udacity.com//course/full-stack-int...</td>\n",
       "      <td>Answer common full stack and web security inte...</td>\n",
       "    </tr>\n",
       "    <tr>\n",
       "      <th>4403</th>\n",
       "      <td>Udacity</td>\n",
       "      <td>Data Structures &amp; Algorithms in Swift</td>\n",
       "      <td>Career Advancement</td>\n",
       "      <td>Intermediate</td>\n",
       "      <td>None</td>\n",
       "      <td>https://www.udacity.com//course/data-structure...</td>\n",
       "      <td>Review and practice the skills technical inter...</td>\n",
       "    </tr>\n",
       "    <tr>\n",
       "      <th>4404</th>\n",
       "      <td>Udacity</td>\n",
       "      <td>iOS Interview Prep</td>\n",
       "      <td>Career Advancement</td>\n",
       "      <td>Intermediate</td>\n",
       "      <td>None</td>\n",
       "      <td>https://www.udacity.com//course/ios-interview-...</td>\n",
       "      <td>Answer iOS and mobile development interview qu...</td>\n",
       "    </tr>\n",
       "    <tr>\n",
       "      <th>4405</th>\n",
       "      <td>Udacity</td>\n",
       "      <td>VR Interview Prep</td>\n",
       "      <td>Career Advancement</td>\n",
       "      <td>Intermediate</td>\n",
       "      <td>None</td>\n",
       "      <td>https://www.udacity.com//course/vr-interview-p...</td>\n",
       "      <td>Learn how to tackle interview questions for te...</td>\n",
       "    </tr>\n",
       "  </tbody>\n",
       "</table>\n",
       "<p>4406 rows × 7 columns</p>\n",
       "</div>"
      ],
      "text/plain": [
       "       Website                                               Name  \\\n",
       "0     Coursera  Write A Feature Length Screenplay For Film Or ...   \n",
       "1     Coursera  Business Strategy: Business Model Canvas Analy...   \n",
       "2     Coursera                      Silicon Thin Film Solar Cells   \n",
       "3     Coursera                               Finance for Managers   \n",
       "4     Coursera       Retrieve Data using Single-Table SQL Queries   \n",
       "...        ...                                                ...   \n",
       "4401   Udacity                           Front-End Interview Prep   \n",
       "4402   Udacity                          Full-Stack Interview Prep   \n",
       "4403   Udacity              Data Structures & Algorithms in Swift   \n",
       "4404   Udacity                                 iOS Interview Prep   \n",
       "4405   Udacity                                  VR Interview Prep   \n",
       "\n",
       "                    Institution Difficulty Level Course Rating  \\\n",
       "0     Michigan State University         Beginner           4.8   \n",
       "1      Coursera Project Network         Beginner           4.8   \n",
       "2           École Polytechnique         Advanced           4.1   \n",
       "3          IESE Business School     Intermediate           4.8   \n",
       "4      Coursera Project Network         Beginner           4.6   \n",
       "...                         ...              ...           ...   \n",
       "4401         Career Advancement     Intermediate          None   \n",
       "4402         Career Advancement     Intermediate          None   \n",
       "4403         Career Advancement     Intermediate          None   \n",
       "4404         Career Advancement     Intermediate          None   \n",
       "4405         Career Advancement     Intermediate          None   \n",
       "\n",
       "                                                   Link  \\\n",
       "0     https://www.coursera.org/learn/write-a-feature...   \n",
       "1     https://www.coursera.org/learn/canvas-analysis...   \n",
       "2     https://www.coursera.org/learn/silicon-thin-fi...   \n",
       "3     https://www.coursera.org/learn/operational-fin...   \n",
       "4     https://www.coursera.org/learn/single-table-sq...   \n",
       "...                                                 ...   \n",
       "4401  https://www.udacity.com//course/front-end-inte...   \n",
       "4402  https://www.udacity.com//course/full-stack-int...   \n",
       "4403  https://www.udacity.com//course/data-structure...   \n",
       "4404  https://www.udacity.com//course/ios-interview-...   \n",
       "4405  https://www.udacity.com//course/vr-interview-p...   \n",
       "\n",
       "                                     Course Description  \n",
       "0     Write a Full Length Feature Film Script  In th...  \n",
       "1     By the end of this guided project, you will be...  \n",
       "2     This course consists of a general presentation...  \n",
       "3     When it comes to numbers, there is always more...  \n",
       "4     In this course you�ll learn how to effectively...  \n",
       "...                                                 ...  \n",
       "4401  Answer front-end technical and behavioral inte...  \n",
       "4402  Answer common full stack and web security inte...  \n",
       "4403  Review and practice the skills technical inter...  \n",
       "4404  Answer iOS and mobile development interview qu...  \n",
       "4405  Learn how to tackle interview questions for te...  \n",
       "\n",
       "[4406 rows x 7 columns]"
      ]
     },
     "execution_count": 16,
     "metadata": {},
     "output_type": "execute_result"
    }
   ],
   "source": [
    "# Concatenate the datasets vertically\n",
    "merged_data = pd.concat([coursera, edx, udacity], ignore_index=True)\n",
    "merged_data.head(5000)\n"
   ]
  },
  {
   "cell_type": "code",
   "execution_count": 17,
   "metadata": {},
   "outputs": [
    {
     "data": {
      "text/plain": [
       "0"
      ]
     },
     "execution_count": 17,
     "metadata": {},
     "output_type": "execute_result"
    }
   ],
   "source": [
    "merged_data.duplicated().sum()"
   ]
  },
  {
   "cell_type": "code",
   "execution_count": 18,
   "metadata": {},
   "outputs": [],
   "source": [
    "import nltk\n",
    "from nltk.tokenize import word_tokenize\n",
    "\n",
    "\n",
    "# Tokenize function\n",
    "def tokenize_description(description):\n",
    "    if isinstance(description, str):\n",
    "        return word_tokenize(description)\n",
    "    else:\n",
    "        return []\n",
    "\n",
    "# Apply tokenization and create a new column\n",
    "merged_data['Description'] = merged_data['Course Description']    \n",
    "# .apply(tokenize_description),,, tokenaization not used\n",
    "\n",
    "# Reorder the columns (optional)\n",
    "merged_data = merged_data[['Website', 'Name', 'Institution', 'Difficulty Level', 'Link', 'Description']]"
   ]
  },
  {
   "cell_type": "code",
   "execution_count": 19,
   "metadata": {},
   "outputs": [
    {
     "data": {
      "text/html": [
       "<div>\n",
       "<style scoped>\n",
       "    .dataframe tbody tr th:only-of-type {\n",
       "        vertical-align: middle;\n",
       "    }\n",
       "\n",
       "    .dataframe tbody tr th {\n",
       "        vertical-align: top;\n",
       "    }\n",
       "\n",
       "    .dataframe thead th {\n",
       "        text-align: right;\n",
       "    }\n",
       "</style>\n",
       "<table border=\"1\" class=\"dataframe\">\n",
       "  <thead>\n",
       "    <tr style=\"text-align: right;\">\n",
       "      <th></th>\n",
       "      <th>Website</th>\n",
       "      <th>Name</th>\n",
       "      <th>Institution</th>\n",
       "      <th>Difficulty Level</th>\n",
       "      <th>Link</th>\n",
       "      <th>Description</th>\n",
       "    </tr>\n",
       "  </thead>\n",
       "  <tbody>\n",
       "    <tr>\n",
       "      <th>0</th>\n",
       "      <td>Coursera</td>\n",
       "      <td>Write A Feature Length Screenplay For Film Or ...</td>\n",
       "      <td>Michigan State University</td>\n",
       "      <td>Beginner</td>\n",
       "      <td>https://www.coursera.org/learn/write-a-feature...</td>\n",
       "      <td>Write a Full Length Feature Film Script  In th...</td>\n",
       "    </tr>\n",
       "    <tr>\n",
       "      <th>1</th>\n",
       "      <td>Coursera</td>\n",
       "      <td>Business Strategy: Business Model Canvas Analy...</td>\n",
       "      <td>Coursera Project Network</td>\n",
       "      <td>Beginner</td>\n",
       "      <td>https://www.coursera.org/learn/canvas-analysis...</td>\n",
       "      <td>By the end of this guided project, you will be...</td>\n",
       "    </tr>\n",
       "    <tr>\n",
       "      <th>2</th>\n",
       "      <td>Coursera</td>\n",
       "      <td>Silicon Thin Film Solar Cells</td>\n",
       "      <td>École Polytechnique</td>\n",
       "      <td>Advanced</td>\n",
       "      <td>https://www.coursera.org/learn/silicon-thin-fi...</td>\n",
       "      <td>This course consists of a general presentation...</td>\n",
       "    </tr>\n",
       "    <tr>\n",
       "      <th>3</th>\n",
       "      <td>Coursera</td>\n",
       "      <td>Finance for Managers</td>\n",
       "      <td>IESE Business School</td>\n",
       "      <td>Intermediate</td>\n",
       "      <td>https://www.coursera.org/learn/operational-fin...</td>\n",
       "      <td>When it comes to numbers, there is always more...</td>\n",
       "    </tr>\n",
       "    <tr>\n",
       "      <th>4</th>\n",
       "      <td>Coursera</td>\n",
       "      <td>Retrieve Data using Single-Table SQL Queries</td>\n",
       "      <td>Coursera Project Network</td>\n",
       "      <td>Beginner</td>\n",
       "      <td>https://www.coursera.org/learn/single-table-sq...</td>\n",
       "      <td>In this course you�ll learn how to effectively...</td>\n",
       "    </tr>\n",
       "  </tbody>\n",
       "</table>\n",
       "</div>"
      ],
      "text/plain": [
       "    Website                                               Name  \\\n",
       "0  Coursera  Write A Feature Length Screenplay For Film Or ...   \n",
       "1  Coursera  Business Strategy: Business Model Canvas Analy...   \n",
       "2  Coursera                      Silicon Thin Film Solar Cells   \n",
       "3  Coursera                               Finance for Managers   \n",
       "4  Coursera       Retrieve Data using Single-Table SQL Queries   \n",
       "\n",
       "                 Institution Difficulty Level  \\\n",
       "0  Michigan State University         Beginner   \n",
       "1   Coursera Project Network         Beginner   \n",
       "2        École Polytechnique         Advanced   \n",
       "3       IESE Business School     Intermediate   \n",
       "4   Coursera Project Network         Beginner   \n",
       "\n",
       "                                                Link  \\\n",
       "0  https://www.coursera.org/learn/write-a-feature...   \n",
       "1  https://www.coursera.org/learn/canvas-analysis...   \n",
       "2  https://www.coursera.org/learn/silicon-thin-fi...   \n",
       "3  https://www.coursera.org/learn/operational-fin...   \n",
       "4  https://www.coursera.org/learn/single-table-sq...   \n",
       "\n",
       "                                         Description  \n",
       "0  Write a Full Length Feature Film Script  In th...  \n",
       "1  By the end of this guided project, you will be...  \n",
       "2  This course consists of a general presentation...  \n",
       "3  When it comes to numbers, there is always more...  \n",
       "4  In this course you�ll learn how to effectively...  "
      ]
     },
     "execution_count": 19,
     "metadata": {},
     "output_type": "execute_result"
    }
   ],
   "source": [
    "merged_data.head(5)"
   ]
  },
  {
   "cell_type": "code",
   "execution_count": 20,
   "metadata": {},
   "outputs": [],
   "source": [
    "# merged_data['Name'] = merged_data['Name'].apply(lambda x:x.split())\n",
    "merged_data['Institution'] = merged_data['Institution'].apply(lambda x:x.split())\n",
    "merged_data['Difficulty Level'] = merged_data['Difficulty Level']\n",
    "# merged_data.sample(4)"
   ]
  },
  {
   "cell_type": "code",
   "execution_count": 21,
   "metadata": {},
   "outputs": [],
   "source": [
    "# merged_data.iloc[0]['Name']"
   ]
  },
  {
   "cell_type": "code",
   "execution_count": 22,
   "metadata": {},
   "outputs": [
    {
     "data": {
      "text/html": [
       "<div>\n",
       "<style scoped>\n",
       "    .dataframe tbody tr th:only-of-type {\n",
       "        vertical-align: middle;\n",
       "    }\n",
       "\n",
       "    .dataframe tbody tr th {\n",
       "        vertical-align: top;\n",
       "    }\n",
       "\n",
       "    .dataframe thead th {\n",
       "        text-align: right;\n",
       "    }\n",
       "</style>\n",
       "<table border=\"1\" class=\"dataframe\">\n",
       "  <thead>\n",
       "    <tr style=\"text-align: right;\">\n",
       "      <th></th>\n",
       "      <th>Website</th>\n",
       "      <th>Name</th>\n",
       "      <th>Institution</th>\n",
       "      <th>Difficulty Level</th>\n",
       "      <th>Link</th>\n",
       "      <th>Description</th>\n",
       "      <th>combined</th>\n",
       "    </tr>\n",
       "  </thead>\n",
       "  <tbody>\n",
       "    <tr>\n",
       "      <th>0</th>\n",
       "      <td>Coursera</td>\n",
       "      <td>Write A Feature Length Screenplay For Film Or ...</td>\n",
       "      <td>[Michigan, State, University]</td>\n",
       "      <td>Beginner</td>\n",
       "      <td>https://www.coursera.org/learn/write-a-feature...</td>\n",
       "      <td>Write a Full Length Feature Film Script  In th...</td>\n",
       "      <td>[Michigan, State, University, Write, a, Full, ...</td>\n",
       "    </tr>\n",
       "    <tr>\n",
       "      <th>1</th>\n",
       "      <td>Coursera</td>\n",
       "      <td>Business Strategy: Business Model Canvas Analy...</td>\n",
       "      <td>[Coursera, Project, Network]</td>\n",
       "      <td>Beginner</td>\n",
       "      <td>https://www.coursera.org/learn/canvas-analysis...</td>\n",
       "      <td>By the end of this guided project, you will be...</td>\n",
       "      <td>[Coursera, Project, Network, By, the, end, of,...</td>\n",
       "    </tr>\n",
       "    <tr>\n",
       "      <th>2</th>\n",
       "      <td>Coursera</td>\n",
       "      <td>Silicon Thin Film Solar Cells</td>\n",
       "      <td>[École, Polytechnique]</td>\n",
       "      <td>Advanced</td>\n",
       "      <td>https://www.coursera.org/learn/silicon-thin-fi...</td>\n",
       "      <td>This course consists of a general presentation...</td>\n",
       "      <td>[École, Polytechnique, This, course, consists,...</td>\n",
       "    </tr>\n",
       "    <tr>\n",
       "      <th>3</th>\n",
       "      <td>Coursera</td>\n",
       "      <td>Finance for Managers</td>\n",
       "      <td>[IESE, Business, School]</td>\n",
       "      <td>Intermediate</td>\n",
       "      <td>https://www.coursera.org/learn/operational-fin...</td>\n",
       "      <td>When it comes to numbers, there is always more...</td>\n",
       "      <td>[IESE, Business, School, When, it, comes, to, ...</td>\n",
       "    </tr>\n",
       "    <tr>\n",
       "      <th>4</th>\n",
       "      <td>Coursera</td>\n",
       "      <td>Retrieve Data using Single-Table SQL Queries</td>\n",
       "      <td>[Coursera, Project, Network]</td>\n",
       "      <td>Beginner</td>\n",
       "      <td>https://www.coursera.org/learn/single-table-sq...</td>\n",
       "      <td>In this course you�ll learn how to effectively...</td>\n",
       "      <td>[Coursera, Project, Network, In, this, course,...</td>\n",
       "    </tr>\n",
       "  </tbody>\n",
       "</table>\n",
       "</div>"
      ],
      "text/plain": [
       "    Website                                               Name  \\\n",
       "0  Coursera  Write A Feature Length Screenplay For Film Or ...   \n",
       "1  Coursera  Business Strategy: Business Model Canvas Analy...   \n",
       "2  Coursera                      Silicon Thin Film Solar Cells   \n",
       "3  Coursera                               Finance for Managers   \n",
       "4  Coursera       Retrieve Data using Single-Table SQL Queries   \n",
       "\n",
       "                     Institution Difficulty Level  \\\n",
       "0  [Michigan, State, University]         Beginner   \n",
       "1   [Coursera, Project, Network]         Beginner   \n",
       "2         [École, Polytechnique]         Advanced   \n",
       "3       [IESE, Business, School]     Intermediate   \n",
       "4   [Coursera, Project, Network]         Beginner   \n",
       "\n",
       "                                                Link  \\\n",
       "0  https://www.coursera.org/learn/write-a-feature...   \n",
       "1  https://www.coursera.org/learn/canvas-analysis...   \n",
       "2  https://www.coursera.org/learn/silicon-thin-fi...   \n",
       "3  https://www.coursera.org/learn/operational-fin...   \n",
       "4  https://www.coursera.org/learn/single-table-sq...   \n",
       "\n",
       "                                         Description  \\\n",
       "0  Write a Full Length Feature Film Script  In th...   \n",
       "1  By the end of this guided project, you will be...   \n",
       "2  This course consists of a general presentation...   \n",
       "3  When it comes to numbers, there is always more...   \n",
       "4  In this course you�ll learn how to effectively...   \n",
       "\n",
       "                                            combined  \n",
       "0  [Michigan, State, University, Write, a, Full, ...  \n",
       "1  [Coursera, Project, Network, By, the, end, of,...  \n",
       "2  [École, Polytechnique, This, course, consists,...  \n",
       "3  [IESE, Business, School, When, it, comes, to, ...  \n",
       "4  [Coursera, Project, Network, In, this, course,...  "
      ]
     },
     "execution_count": 22,
     "metadata": {},
     "output_type": "execute_result"
    }
   ],
   "source": [
    "merged_data[\"combined\"]= merged_data[\"Institution\"]+merged_data[\"Description\"].apply(tokenize_description)\n",
    "merged_data.head()"
   ]
  },
  {
   "cell_type": "code",
   "execution_count": 23,
   "metadata": {},
   "outputs": [
    {
     "data": {
      "text/html": [
       "<div>\n",
       "<style scoped>\n",
       "    .dataframe tbody tr th:only-of-type {\n",
       "        vertical-align: middle;\n",
       "    }\n",
       "\n",
       "    .dataframe tbody tr th {\n",
       "        vertical-align: top;\n",
       "    }\n",
       "\n",
       "    .dataframe thead th {\n",
       "        text-align: right;\n",
       "    }\n",
       "</style>\n",
       "<table border=\"1\" class=\"dataframe\">\n",
       "  <thead>\n",
       "    <tr style=\"text-align: right;\">\n",
       "      <th></th>\n",
       "      <th>Website</th>\n",
       "      <th>Name</th>\n",
       "      <th>Institution</th>\n",
       "      <th>Difficulty Level</th>\n",
       "      <th>Link</th>\n",
       "      <th>Description</th>\n",
       "      <th>combined</th>\n",
       "    </tr>\n",
       "  </thead>\n",
       "  <tbody>\n",
       "    <tr>\n",
       "      <th>0</th>\n",
       "      <td>Coursera</td>\n",
       "      <td>Write A Feature Length Screenplay For Film Or ...</td>\n",
       "      <td>[Michigan, State, University]</td>\n",
       "      <td>Beginner</td>\n",
       "      <td>https://www.coursera.org/learn/write-a-feature...</td>\n",
       "      <td>Write a Full Length Feature Film Script  In th...</td>\n",
       "      <td>Michigan State University Write a Full Length ...</td>\n",
       "    </tr>\n",
       "    <tr>\n",
       "      <th>1</th>\n",
       "      <td>Coursera</td>\n",
       "      <td>Business Strategy: Business Model Canvas Analy...</td>\n",
       "      <td>[Coursera, Project, Network]</td>\n",
       "      <td>Beginner</td>\n",
       "      <td>https://www.coursera.org/learn/canvas-analysis...</td>\n",
       "      <td>By the end of this guided project, you will be...</td>\n",
       "      <td>Coursera Project Network By the end of this gu...</td>\n",
       "    </tr>\n",
       "    <tr>\n",
       "      <th>2</th>\n",
       "      <td>Coursera</td>\n",
       "      <td>Silicon Thin Film Solar Cells</td>\n",
       "      <td>[École, Polytechnique]</td>\n",
       "      <td>Advanced</td>\n",
       "      <td>https://www.coursera.org/learn/silicon-thin-fi...</td>\n",
       "      <td>This course consists of a general presentation...</td>\n",
       "      <td>École Polytechnique This course consists of a ...</td>\n",
       "    </tr>\n",
       "    <tr>\n",
       "      <th>3</th>\n",
       "      <td>Coursera</td>\n",
       "      <td>Finance for Managers</td>\n",
       "      <td>[IESE, Business, School]</td>\n",
       "      <td>Intermediate</td>\n",
       "      <td>https://www.coursera.org/learn/operational-fin...</td>\n",
       "      <td>When it comes to numbers, there is always more...</td>\n",
       "      <td>IESE Business School When it comes to numbers ...</td>\n",
       "    </tr>\n",
       "    <tr>\n",
       "      <th>4</th>\n",
       "      <td>Coursera</td>\n",
       "      <td>Retrieve Data using Single-Table SQL Queries</td>\n",
       "      <td>[Coursera, Project, Network]</td>\n",
       "      <td>Beginner</td>\n",
       "      <td>https://www.coursera.org/learn/single-table-sq...</td>\n",
       "      <td>In this course you�ll learn how to effectively...</td>\n",
       "      <td>Coursera Project Network In this course you�ll...</td>\n",
       "    </tr>\n",
       "  </tbody>\n",
       "</table>\n",
       "</div>"
      ],
      "text/plain": [
       "    Website                                               Name  \\\n",
       "0  Coursera  Write A Feature Length Screenplay For Film Or ...   \n",
       "1  Coursera  Business Strategy: Business Model Canvas Analy...   \n",
       "2  Coursera                      Silicon Thin Film Solar Cells   \n",
       "3  Coursera                               Finance for Managers   \n",
       "4  Coursera       Retrieve Data using Single-Table SQL Queries   \n",
       "\n",
       "                     Institution Difficulty Level  \\\n",
       "0  [Michigan, State, University]         Beginner   \n",
       "1   [Coursera, Project, Network]         Beginner   \n",
       "2         [École, Polytechnique]         Advanced   \n",
       "3       [IESE, Business, School]     Intermediate   \n",
       "4   [Coursera, Project, Network]         Beginner   \n",
       "\n",
       "                                                Link  \\\n",
       "0  https://www.coursera.org/learn/write-a-feature...   \n",
       "1  https://www.coursera.org/learn/canvas-analysis...   \n",
       "2  https://www.coursera.org/learn/silicon-thin-fi...   \n",
       "3  https://www.coursera.org/learn/operational-fin...   \n",
       "4  https://www.coursera.org/learn/single-table-sq...   \n",
       "\n",
       "                                         Description  \\\n",
       "0  Write a Full Length Feature Film Script  In th...   \n",
       "1  By the end of this guided project, you will be...   \n",
       "2  This course consists of a general presentation...   \n",
       "3  When it comes to numbers, there is always more...   \n",
       "4  In this course you�ll learn how to effectively...   \n",
       "\n",
       "                                            combined  \n",
       "0  Michigan State University Write a Full Length ...  \n",
       "1  Coursera Project Network By the end of this gu...  \n",
       "2  École Polytechnique This course consists of a ...  \n",
       "3  IESE Business School When it comes to numbers ...  \n",
       "4  Coursera Project Network In this course you�ll...  "
      ]
     },
     "execution_count": 23,
     "metadata": {},
     "output_type": "execute_result"
    }
   ],
   "source": [
    "# Converting list to str\n",
    "merged_data['combined'] = merged_data['combined'].apply(lambda x: \" \".join(x))\n",
    "\n",
    "merged_data.head()"
   ]
  },
  {
   "cell_type": "code",
   "execution_count": 24,
   "metadata": {},
   "outputs": [],
   "source": [
    "# Converting to lower case\n",
    "merged_data['combined'] = merged_data['combined'].apply(lambda x:x.lower())\n"
   ]
  },
  {
   "cell_type": "code",
   "execution_count": 25,
   "metadata": {},
   "outputs": [
    {
     "data": {
      "text/plain": [
       "\"michigan state university write a full length feature film script in this course , you will write a complete , feature-length screenplay for film or television , be it a serious drama or romantic comedy or anything in between . you�ll learn to break down the creative process into components , and you�ll discover a structured process that allows you to produce a polished and pitch-ready script by the end of the course . completing this project will increase your confidence in your ideas and abilities , and you�ll feel prepared to pitch your first script and get started on your next . this is a course designed to tap into your creativity and is based in `` active learning '' . most of the actual learning takes place within your own activities - that is , writing ! you will learn by doing . here is a link to a trailer for the course . to view the trailer , please copy and paste the link into your browser . https : //vimeo.com/382067900/b78b800dc0 learner review : `` love the approach professor wheeler takes towards this course . it 's to the point , easy to follow , and very informative ! would definitely recommend it to anyone who is interested in taking a screenplay writing course ! the course curriculum is simple : we will adopt a professional writers room process in which you�ll write , post your work for peer review , share feedback with your peers and revise your work with the feedback you receive from your peers . that 's how we do it in the real world . you will feel as if you were in a professional writers room yet no prior experience as a writer is required . i 'm a proponent of experiential learning ( active learning ) . my lectures are short ( sometimes just two minutes long ) and to the point , designed in a step-by-step process essential to your success as a script writer . i will guide you but i won�t `` show '' you how to write . i firmly believe that the only way to become a writer is to write , write , write . learner review : `` i would like to thank this course instructor . it 's an amazing course '' what you�ll need to get started : as mentioned above , no prior script writing experience is required . to begin with , any basic word processor will do . during week two , you can choose to download some free scriptwriting software such as celtx or trelby or you may choose to purchase final draft , the industry standard , or you can continue to use your word processor and do your own script formatting . learner review : `` now i am a writer ! '' if you have any concerns regarding the protection of your original work , coursera 's privacy policy protects the learner 's ip and you are indeed the sole owners of your work.drama comedy peering screenwriting film document review dialogue creative writing writing unix shells arts-and-humanities music-and-art\""
      ]
     },
     "execution_count": 25,
     "metadata": {},
     "output_type": "execute_result"
    }
   ],
   "source": [
    "merged_data.iloc[0]['combined']"
   ]
  },
  {
   "cell_type": "code",
   "execution_count": 26,
   "metadata": {},
   "outputs": [],
   "source": [
    "import nltk\n",
    "from nltk.stem import PorterStemmer"
   ]
  },
  {
   "cell_type": "code",
   "execution_count": 27,
   "metadata": {},
   "outputs": [],
   "source": [
    "ps = PorterStemmer()"
   ]
  },
  {
   "cell_type": "code",
   "execution_count": 28,
   "metadata": {},
   "outputs": [],
   "source": [
    "def stems(text):\n",
    "    T = []\n",
    "    \n",
    "    for i in text.split():\n",
    "        T.append(ps.stem(i))\n",
    "    \n",
    "    return \" \".join(T)"
   ]
  },
  {
   "cell_type": "code",
   "execution_count": 29,
   "metadata": {},
   "outputs": [
    {
     "data": {
      "text/plain": [
       "\"michigan state univers write a full length featur film script in thi cours , you will write a complet , feature-length screenplay for film or televis , be it a seriou drama or romant comedi or anyth in between . you�ll learn to break down the creativ process into compon , and you�ll discov a structur process that allow you to produc a polish and pitch-readi script by the end of the cours . complet thi project will increas your confid in your idea and abil , and you�ll feel prepar to pitch your first script and get start on your next . thi is a cours design to tap into your creativ and is base in `` activ learn '' . most of the actual learn take place within your own activ - that is , write ! you will learn by do . here is a link to a trailer for the cours . to view the trailer , pleas copi and past the link into your browser . http : //vimeo.com/382067900/b78b800dc0 learner review : `` love the approach professor wheeler take toward thi cours . it 's to the point , easi to follow , and veri inform ! would definit recommend it to anyon who is interest in take a screenplay write cours ! the cours curriculum is simpl : we will adopt a profession writer room process in which you�ll write , post your work for peer review , share feedback with your peer and revis your work with the feedback you receiv from your peer . that 's how we do it in the real world . you will feel as if you were in a profession writer room yet no prior experi as a writer is requir . i 'm a propon of experienti learn ( activ learn ) . my lectur are short ( sometim just two minut long ) and to the point , design in a step-by-step process essenti to your success as a script writer . i will guid you but i won�t `` show '' you how to write . i firmli believ that the onli way to becom a writer is to write , write , write . learner review : `` i would like to thank thi cours instructor . it 's an amaz cours '' what you�ll need to get start : as mention abov , no prior script write experi is requir . to begin with , ani basic word processor will do . dure week two , you can choos to download some free scriptwrit softwar such as celtx or trelbi or you may choos to purchas final draft , the industri standard , or you can continu to use your word processor and do your own script format . learner review : `` now i am a writer ! '' if you have ani concern regard the protect of your origin work , coursera 's privaci polici protect the learner 's ip and you are inde the sole owner of your work.drama comedi peer screenwrit film document review dialogu creativ write write unix shell arts-and-human music-and-art\""
      ]
     },
     "execution_count": 29,
     "metadata": {},
     "output_type": "execute_result"
    }
   ],
   "source": [
    "merged_data['combined'] = merged_data['combined'].apply(stems)\n",
    "merged_data.iloc[0]['combined']"
   ]
  },
  {
   "cell_type": "code",
   "execution_count": 30,
   "metadata": {},
   "outputs": [],
   "source": [
    "from sklearn.feature_extraction.text import CountVectorizer\n",
    "cv = CountVectorizer(max_features=5000,stop_words='english')"
   ]
  },
  {
   "cell_type": "code",
   "execution_count": 31,
   "metadata": {},
   "outputs": [],
   "source": [
    "vector = cv.fit_transform(merged_data['combined']).toarray()"
   ]
  },
  {
   "cell_type": "code",
   "execution_count": 32,
   "metadata": {},
   "outputs": [
    {
     "data": {
      "text/plain": [
       "array([0, 0, 0, ..., 0, 0, 0], dtype=int64)"
      ]
     },
     "execution_count": 32,
     "metadata": {},
     "output_type": "execute_result"
    }
   ],
   "source": [
    "vector[0]"
   ]
  },
  {
   "cell_type": "code",
   "execution_count": 33,
   "metadata": {},
   "outputs": [
    {
     "data": {
      "text/plain": [
       "(4406, 5000)"
      ]
     },
     "execution_count": 33,
     "metadata": {},
     "output_type": "execute_result"
    }
   ],
   "source": [
    "vector.shape"
   ]
  },
  {
   "cell_type": "code",
   "execution_count": 34,
   "metadata": {},
   "outputs": [
    {
     "name": "stderr",
     "output_type": "stream",
     "text": [
      "c:\\users\\user\\appdata\\local\\programs\\python\\python39\\lib\\site-packages\\sklearn\\utils\\deprecation.py:87: FutureWarning: Function get_feature_names is deprecated; get_feature_names is deprecated in 1.0 and will be removed in 1.2. Please use get_feature_names_out instead.\n",
      "  warnings.warn(msg, category=FutureWarning)\n"
     ]
    },
    {
     "data": {
      "text/plain": [
       "5000"
      ]
     },
     "execution_count": 34,
     "metadata": {},
     "output_type": "execute_result"
    }
   ],
   "source": [
    "len(cv.get_feature_names())"
   ]
  },
  {
   "cell_type": "code",
   "execution_count": 35,
   "metadata": {},
   "outputs": [],
   "source": [
    "from sklearn.metrics.pairwise import cosine_similarity"
   ]
  },
  {
   "cell_type": "code",
   "execution_count": 36,
   "metadata": {},
   "outputs": [],
   "source": [
    "similarity = cosine_similarity(vector)"
   ]
  },
  {
   "cell_type": "code",
   "execution_count": 37,
   "metadata": {},
   "outputs": [
    {
     "data": {
      "text/plain": [
       "(4406, 4406)"
      ]
     },
     "execution_count": 37,
     "metadata": {},
     "output_type": "execute_result"
    }
   ],
   "source": [
    "similarity.shape"
   ]
  },
  {
   "cell_type": "code",
   "execution_count": 38,
   "metadata": {},
   "outputs": [
    {
     "data": {
      "text/plain": [
       "3"
      ]
     },
     "execution_count": 38,
     "metadata": {},
     "output_type": "execute_result"
    }
   ],
   "source": [
    "# similarity\n",
    "merged_data[merged_data['Name'] == 'Finance for Managers'].index[0]"
   ]
  },
  {
   "cell_type": "code",
   "execution_count": 39,
   "metadata": {},
   "outputs": [],
   "source": [
    "def recommend(course):\n",
    "    # Convert the input course to lowercase\n",
    "    course = course.lower()\n",
    "    # Get the index of the course\n",
    "    index = merged_data[merged_data['Name'].str.lower().str.contains(course)].index[0]\n",
    "    distances = sorted(list(enumerate(similarity[index])), reverse=True, key=lambda x: x[1])\n",
    "    for i in distances[1:6]:\n",
    "        print(merged_data.iloc[i[0]].Name)"
   ]
  },
  {
   "cell_type": "code",
   "execution_count": 40,
   "metadata": {},
   "outputs": [
    {
     "name": "stdout",
     "output_type": "stream",
     "text": [
      "Accounting: Principles of Financial Accounting\n",
      "Accounting for Decision-Making\n",
      "Financial Accounting Made Fun: Eliminating Your Fears\n",
      "Corporate finance: Know your numbers 2\n",
      "Fundamentals of financial and management accounting\n"
     ]
    }
   ],
   "source": [
    "recommend('Finance')"
   ]
  },
  {
   "cell_type": "code",
   "execution_count": 41,
   "metadata": {},
   "outputs": [],
   "source": [
    "import pickle as pickle\n"
   ]
  },
  {
   "cell_type": "code",
   "execution_count": 42,
   "metadata": {},
   "outputs": [],
   "source": [
    "pickle.dump(merged_data,open('artifacts/final_data.pkl','wb'), protocol=4)\n",
    "pickle.dump(similarity,open('artifacts/similarity.pkl','wb'), protocol=4)\n",
    "# with open('artifacts/final_data.pkl', 'wb') as f:\n",
    "#     pickle.dump(merged_data, f, protocol=5)\n",
    "\n",
    "# with open('artifacts/similarity.pkl', 'wb') as f:\n",
    "#     pickle.dump(similarity, f, protocol=5)"
   ]
  },
  {
   "cell_type": "code",
   "execution_count": 43,
   "metadata": {},
   "outputs": [],
   "source": [
    "# merged_data.to_csv('artifacts/final_data.csv', index=False)\n",
    "# pd.DataFrame(similarity).to_csv('artifacts/similarity.csv', index=False)"
   ]
  }
 ],
 "metadata": {
  "kernelspec": {
   "display_name": "Python 3 (ipykernel)",
   "language": "python",
   "name": "python3"
  },
  "language_info": {
   "codemirror_mode": {
    "name": "ipython",
    "version": 3
   },
   "file_extension": ".py",
   "mimetype": "text/x-python",
   "name": "python",
   "nbconvert_exporter": "python",
   "pygments_lexer": "ipython3",
   "version": "3.9.6"
  }
 },
 "nbformat": 4,
 "nbformat_minor": 2
}
