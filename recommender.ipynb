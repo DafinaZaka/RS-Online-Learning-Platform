{
 "cells": [
  {
   "cell_type": "code",
   "execution_count": 26,
   "metadata": {},
   "outputs": [],
   "source": [
    "import numpy as np\n",
    "import csv\n",
    "import pandas as pd\n",
    "import matplotlib.pyplot as plt\n",
    "from translate import Translator"
   ]
  },
  {
   "cell_type": "code",
   "execution_count": 27,
   "metadata": {},
   "outputs": [
    {
     "data": {
      "text/html": [
       "<div>\n",
       "<style scoped>\n",
       "    .dataframe tbody tr th:only-of-type {\n",
       "        vertical-align: middle;\n",
       "    }\n",
       "\n",
       "    .dataframe tbody tr th {\n",
       "        vertical-align: top;\n",
       "    }\n",
       "\n",
       "    .dataframe thead th {\n",
       "        text-align: right;\n",
       "    }\n",
       "</style>\n",
       "<table border=\"1\" class=\"dataframe\">\n",
       "  <thead>\n",
       "    <tr style=\"text-align: right;\">\n",
       "      <th></th>\n",
       "      <th>Course Name</th>\n",
       "      <th>University</th>\n",
       "      <th>Difficulty Level</th>\n",
       "      <th>Course Rating</th>\n",
       "      <th>Course URL</th>\n",
       "      <th>Course Description</th>\n",
       "      <th>Skills</th>\n",
       "    </tr>\n",
       "  </thead>\n",
       "  <tbody>\n",
       "    <tr>\n",
       "      <th>0</th>\n",
       "      <td>Write A Feature Length Screenplay For Film Or ...</td>\n",
       "      <td>Michigan State University</td>\n",
       "      <td>Beginner</td>\n",
       "      <td>4.8</td>\n",
       "      <td>https://www.coursera.org/learn/write-a-feature...</td>\n",
       "      <td>Write a Full Length Feature Film Script  In th...</td>\n",
       "      <td>Drama  Comedy  peering  screenwriting  film  D...</td>\n",
       "    </tr>\n",
       "    <tr>\n",
       "      <th>1</th>\n",
       "      <td>Business Strategy: Business Model Canvas Analy...</td>\n",
       "      <td>Coursera Project Network</td>\n",
       "      <td>Beginner</td>\n",
       "      <td>4.8</td>\n",
       "      <td>https://www.coursera.org/learn/canvas-analysis...</td>\n",
       "      <td>By the end of this guided project, you will be...</td>\n",
       "      <td>Finance  business plan  persona (user experien...</td>\n",
       "    </tr>\n",
       "    <tr>\n",
       "      <th>2</th>\n",
       "      <td>Silicon Thin Film Solar Cells</td>\n",
       "      <td>École Polytechnique</td>\n",
       "      <td>Advanced</td>\n",
       "      <td>4.1</td>\n",
       "      <td>https://www.coursera.org/learn/silicon-thin-fi...</td>\n",
       "      <td>This course consists of a general presentation...</td>\n",
       "      <td>chemistry  physics  Solar Energy  film  lambda...</td>\n",
       "    </tr>\n",
       "    <tr>\n",
       "      <th>3</th>\n",
       "      <td>Finance for Managers</td>\n",
       "      <td>IESE Business School</td>\n",
       "      <td>Intermediate</td>\n",
       "      <td>4.8</td>\n",
       "      <td>https://www.coursera.org/learn/operational-fin...</td>\n",
       "      <td>When it comes to numbers, there is always more...</td>\n",
       "      <td>accounts receivable  dupont analysis  analysis...</td>\n",
       "    </tr>\n",
       "    <tr>\n",
       "      <th>4</th>\n",
       "      <td>Retrieve Data using Single-Table SQL Queries</td>\n",
       "      <td>Coursera Project Network</td>\n",
       "      <td>Beginner</td>\n",
       "      <td>4.6</td>\n",
       "      <td>https://www.coursera.org/learn/single-table-sq...</td>\n",
       "      <td>In this course you�ll learn how to effectively...</td>\n",
       "      <td>Data Analysis  select (sql)  database manageme...</td>\n",
       "    </tr>\n",
       "  </tbody>\n",
       "</table>\n",
       "</div>"
      ],
      "text/plain": [
       "                                         Course Name  \\\n",
       "0  Write A Feature Length Screenplay For Film Or ...   \n",
       "1  Business Strategy: Business Model Canvas Analy...   \n",
       "2                      Silicon Thin Film Solar Cells   \n",
       "3                               Finance for Managers   \n",
       "4       Retrieve Data using Single-Table SQL Queries   \n",
       "\n",
       "                  University Difficulty Level Course Rating  \\\n",
       "0  Michigan State University         Beginner           4.8   \n",
       "1   Coursera Project Network         Beginner           4.8   \n",
       "2        École Polytechnique         Advanced           4.1   \n",
       "3       IESE Business School     Intermediate           4.8   \n",
       "4   Coursera Project Network         Beginner           4.6   \n",
       "\n",
       "                                          Course URL  \\\n",
       "0  https://www.coursera.org/learn/write-a-feature...   \n",
       "1  https://www.coursera.org/learn/canvas-analysis...   \n",
       "2  https://www.coursera.org/learn/silicon-thin-fi...   \n",
       "3  https://www.coursera.org/learn/operational-fin...   \n",
       "4  https://www.coursera.org/learn/single-table-sq...   \n",
       "\n",
       "                                  Course Description  \\\n",
       "0  Write a Full Length Feature Film Script  In th...   \n",
       "1  By the end of this guided project, you will be...   \n",
       "2  This course consists of a general presentation...   \n",
       "3  When it comes to numbers, there is always more...   \n",
       "4  In this course you�ll learn how to effectively...   \n",
       "\n",
       "                                              Skills  \n",
       "0  Drama  Comedy  peering  screenwriting  film  D...  \n",
       "1  Finance  business plan  persona (user experien...  \n",
       "2  chemistry  physics  Solar Energy  film  lambda...  \n",
       "3  accounts receivable  dupont analysis  analysis...  \n",
       "4  Data Analysis  select (sql)  database manageme...  "
      ]
     },
     "execution_count": 27,
     "metadata": {},
     "output_type": "execute_result"
    }
   ],
   "source": [
    "coursera=  pd.read_csv(\"data/Coursera.csv\", encoding=\"utf-8\")\n",
    "edx= pd.read_csv(\"data/EdX.csv\", encoding=\"utf-8\")\n",
    "udacity= pd.read_csv(\"data/Udacity.csv\", encoding=\"utf-8\")\n",
    "\n",
    "coursera['University'] = coursera['University'].apply(lambda x: 'É' + x[1:] if x.startswith('�') else 'é' + x[1:] if '�' in x else x)\n",
    "coursera['University'] = coursera['University'].replace('École Polytechnique F�d�rale de Lausanne', 'École Polytechnique Fédérale de Lausanne')\n",
    "coursera.head(5)"
   ]
  },
  {
   "cell_type": "code",
   "execution_count": 28,
   "metadata": {},
   "outputs": [
    {
     "data": {
      "text/plain": [
       "(3522, 7)"
      ]
     },
     "execution_count": 28,
     "metadata": {},
     "output_type": "execute_result"
    }
   ],
   "source": [
    "coursera.shape"
   ]
  },
  {
   "cell_type": "code",
   "execution_count": 29,
   "metadata": {},
   "outputs": [
    {
     "data": {
      "text/html": [
       "<div>\n",
       "<style scoped>\n",
       "    .dataframe tbody tr th:only-of-type {\n",
       "        vertical-align: middle;\n",
       "    }\n",
       "\n",
       "    .dataframe tbody tr th {\n",
       "        vertical-align: top;\n",
       "    }\n",
       "\n",
       "    .dataframe thead th {\n",
       "        text-align: right;\n",
       "    }\n",
       "</style>\n",
       "<table border=\"1\" class=\"dataframe\">\n",
       "  <thead>\n",
       "    <tr style=\"text-align: right;\">\n",
       "      <th></th>\n",
       "      <th>Name</th>\n",
       "      <th>University</th>\n",
       "      <th>Difficulty Level</th>\n",
       "      <th>Link</th>\n",
       "      <th>About</th>\n",
       "      <th>Course Description</th>\n",
       "    </tr>\n",
       "  </thead>\n",
       "  <tbody>\n",
       "    <tr>\n",
       "      <th>0</th>\n",
       "      <td>How to Learn Online</td>\n",
       "      <td>edX</td>\n",
       "      <td>Beginner</td>\n",
       "      <td>https://www.edx.org/course/how-to-learn-online</td>\n",
       "      <td>Learn essential strategies for successful onli...</td>\n",
       "      <td>Designed for those who are new to elearning, t...</td>\n",
       "    </tr>\n",
       "    <tr>\n",
       "      <th>1</th>\n",
       "      <td>Programming for Everybody (Getting Started wit...</td>\n",
       "      <td>The University of Michigan</td>\n",
       "      <td>Beginner</td>\n",
       "      <td>https://www.edx.org/course/programming-for-eve...</td>\n",
       "      <td>This course is a \"no prerequisite\" introductio...</td>\n",
       "      <td>This course aims to teach everyone the basics ...</td>\n",
       "    </tr>\n",
       "    <tr>\n",
       "      <th>2</th>\n",
       "      <td>CS50's Introduction to Computer Science</td>\n",
       "      <td>Harvard University</td>\n",
       "      <td>Beginner</td>\n",
       "      <td>https://www.edx.org/course/cs50s-introduction-...</td>\n",
       "      <td>An introduction to the intellectual enterprise...</td>\n",
       "      <td>This is CS50x , Harvard University's introduct...</td>\n",
       "    </tr>\n",
       "    <tr>\n",
       "      <th>3</th>\n",
       "      <td>The Analytics Edge</td>\n",
       "      <td>Massachusetts Institute of Technology</td>\n",
       "      <td>Intermediate</td>\n",
       "      <td>https://www.edx.org/course/the-analytics-edge</td>\n",
       "      <td>Through inspiring examples and stories, discov...</td>\n",
       "      <td>In the last decade, the amount of data availab...</td>\n",
       "    </tr>\n",
       "    <tr>\n",
       "      <th>4</th>\n",
       "      <td>Marketing Analytics: Marketing Measurement Str...</td>\n",
       "      <td>University of California, Berkeley</td>\n",
       "      <td>Beginner</td>\n",
       "      <td>https://www.edx.org/course/marketing-analytics...</td>\n",
       "      <td>This course is part of a MicroMasters® Program</td>\n",
       "      <td>Begin your journey in a new career in marketin...</td>\n",
       "    </tr>\n",
       "  </tbody>\n",
       "</table>\n",
       "</div>"
      ],
      "text/plain": [
       "                                                Name  \\\n",
       "0                                How to Learn Online   \n",
       "1  Programming for Everybody (Getting Started wit...   \n",
       "2            CS50's Introduction to Computer Science   \n",
       "3                                 The Analytics Edge   \n",
       "4  Marketing Analytics: Marketing Measurement Str...   \n",
       "\n",
       "                              University Difficulty Level  \\\n",
       "0                                    edX         Beginner   \n",
       "1             The University of Michigan         Beginner   \n",
       "2                     Harvard University         Beginner   \n",
       "3  Massachusetts Institute of Technology     Intermediate   \n",
       "4     University of California, Berkeley         Beginner   \n",
       "\n",
       "                                                Link  \\\n",
       "0     https://www.edx.org/course/how-to-learn-online   \n",
       "1  https://www.edx.org/course/programming-for-eve...   \n",
       "2  https://www.edx.org/course/cs50s-introduction-...   \n",
       "3      https://www.edx.org/course/the-analytics-edge   \n",
       "4  https://www.edx.org/course/marketing-analytics...   \n",
       "\n",
       "                                               About  \\\n",
       "0  Learn essential strategies for successful onli...   \n",
       "1  This course is a \"no prerequisite\" introductio...   \n",
       "2  An introduction to the intellectual enterprise...   \n",
       "3  Through inspiring examples and stories, discov...   \n",
       "4     This course is part of a MicroMasters® Program   \n",
       "\n",
       "                                  Course Description  \n",
       "0  Designed for those who are new to elearning, t...  \n",
       "1  This course aims to teach everyone the basics ...  \n",
       "2  This is CS50x , Harvard University's introduct...  \n",
       "3  In the last decade, the amount of data availab...  \n",
       "4  Begin your journey in a new career in marketin...  "
      ]
     },
     "execution_count": 29,
     "metadata": {},
     "output_type": "execute_result"
    }
   ],
   "source": [
    "edx.head(5)"
   ]
  },
  {
   "cell_type": "code",
   "execution_count": 30,
   "metadata": {},
   "outputs": [
    {
     "data": {
      "text/plain": [
       "(720, 6)"
      ]
     },
     "execution_count": 30,
     "metadata": {},
     "output_type": "execute_result"
    }
   ],
   "source": [
    "edx.shape"
   ]
  },
  {
   "cell_type": "code",
   "execution_count": 31,
   "metadata": {},
   "outputs": [
    {
     "data": {
      "text/html": [
       "<div>\n",
       "<style scoped>\n",
       "    .dataframe tbody tr th:only-of-type {\n",
       "        vertical-align: middle;\n",
       "    }\n",
       "\n",
       "    .dataframe tbody tr th {\n",
       "        vertical-align: top;\n",
       "    }\n",
       "\n",
       "    .dataframe thead th {\n",
       "        text-align: right;\n",
       "    }\n",
       "</style>\n",
       "<table border=\"1\" class=\"dataframe\">\n",
       "  <thead>\n",
       "    <tr style=\"text-align: right;\">\n",
       "      <th></th>\n",
       "      <th>Name</th>\n",
       "      <th>School</th>\n",
       "      <th>Difficulty Level</th>\n",
       "      <th>Rating</th>\n",
       "      <th>Link</th>\n",
       "      <th>About</th>\n",
       "    </tr>\n",
       "  </thead>\n",
       "  <tbody>\n",
       "    <tr>\n",
       "      <th>0</th>\n",
       "      <td>Data Engineer</td>\n",
       "      <td>School of Data Science</td>\n",
       "      <td>Intermediate</td>\n",
       "      <td>4.6</td>\n",
       "      <td>https://www.udacity.com//course/data-engineer-...</td>\n",
       "      <td>Data Engineering is the foundation for the new...</td>\n",
       "    </tr>\n",
       "    <tr>\n",
       "      <th>1</th>\n",
       "      <td>Data Scientist</td>\n",
       "      <td>School of Data Science</td>\n",
       "      <td>Advanced</td>\n",
       "      <td>4.7</td>\n",
       "      <td>https://www.udacity.com//course/data-scientist...</td>\n",
       "      <td>Build effective machine learning models, run d...</td>\n",
       "    </tr>\n",
       "    <tr>\n",
       "      <th>2</th>\n",
       "      <td>Data Analyst</td>\n",
       "      <td>School of Data Science</td>\n",
       "      <td>Intermediate</td>\n",
       "      <td>4.6</td>\n",
       "      <td>https://www.udacity.com//course/data-analyst-n...</td>\n",
       "      <td>Use Python, SQL, and statistics to uncover ins...</td>\n",
       "    </tr>\n",
       "    <tr>\n",
       "      <th>3</th>\n",
       "      <td>C++</td>\n",
       "      <td>School of Autonomous Systems</td>\n",
       "      <td>Intermediate</td>\n",
       "      <td>4.6</td>\n",
       "      <td>https://www.udacity.com//course/c-plus-plus-na...</td>\n",
       "      <td>Get hands-on experience by building five real-...</td>\n",
       "    </tr>\n",
       "    <tr>\n",
       "      <th>4</th>\n",
       "      <td>Product Manager</td>\n",
       "      <td>School of Product Management</td>\n",
       "      <td>Beginner</td>\n",
       "      <td>4.7</td>\n",
       "      <td>https://www.udacity.com//course/product-manage...</td>\n",
       "      <td>Envision and execute the development of indust...</td>\n",
       "    </tr>\n",
       "  </tbody>\n",
       "</table>\n",
       "</div>"
      ],
      "text/plain": [
       "              Name                        School Difficulty Level Rating  \\\n",
       "0    Data Engineer        School of Data Science     Intermediate    4.6   \n",
       "1   Data Scientist        School of Data Science         Advanced    4.7   \n",
       "2     Data Analyst        School of Data Science     Intermediate    4.6   \n",
       "3              C++  School of Autonomous Systems     Intermediate    4.6   \n",
       "4  Product Manager  School of Product Management         Beginner    4.7   \n",
       "\n",
       "                                                Link  \\\n",
       "0  https://www.udacity.com//course/data-engineer-...   \n",
       "1  https://www.udacity.com//course/data-scientist...   \n",
       "2  https://www.udacity.com//course/data-analyst-n...   \n",
       "3  https://www.udacity.com//course/c-plus-plus-na...   \n",
       "4  https://www.udacity.com//course/product-manage...   \n",
       "\n",
       "                                               About  \n",
       "0  Data Engineering is the foundation for the new...  \n",
       "1  Build effective machine learning models, run d...  \n",
       "2  Use Python, SQL, and statistics to uncover ins...  \n",
       "3  Get hands-on experience by building five real-...  \n",
       "4  Envision and execute the development of indust...  "
      ]
     },
     "execution_count": 31,
     "metadata": {},
     "output_type": "execute_result"
    }
   ],
   "source": [
    "udacity.head(5)"
   ]
  },
  {
   "cell_type": "code",
   "execution_count": 32,
   "metadata": {},
   "outputs": [
    {
     "data": {
      "text/plain": [
       "(720, 6)"
      ]
     },
     "execution_count": 32,
     "metadata": {},
     "output_type": "execute_result"
    }
   ],
   "source": [
    "edx.shape"
   ]
  },
  {
   "cell_type": "code",
   "execution_count": 33,
   "metadata": {},
   "outputs": [
    {
     "data": {
      "text/plain": [
       "98"
      ]
     },
     "execution_count": 33,
     "metadata": {},
     "output_type": "execute_result"
    }
   ],
   "source": [
    "coursera.duplicated().sum()"
   ]
  },
  {
   "cell_type": "code",
   "execution_count": 34,
   "metadata": {},
   "outputs": [],
   "source": [
    "coursera.drop_duplicates(inplace=True)"
   ]
  },
  {
   "cell_type": "code",
   "execution_count": 35,
   "metadata": {},
   "outputs": [
    {
     "data": {
      "text/plain": [
       "0"
      ]
     },
     "execution_count": 35,
     "metadata": {},
     "output_type": "execute_result"
    }
   ],
   "source": [
    "coursera.duplicated().sum()"
   ]
  },
  {
   "cell_type": "code",
   "execution_count": 36,
   "metadata": {},
   "outputs": [
    {
     "data": {
      "text/plain": [
       "0"
      ]
     },
     "execution_count": 36,
     "metadata": {},
     "output_type": "execute_result"
    }
   ],
   "source": [
    "udacity.duplicated().sum()"
   ]
  },
  {
   "cell_type": "code",
   "execution_count": 37,
   "metadata": {},
   "outputs": [
    {
     "data": {
      "text/plain": [
       "1"
      ]
     },
     "execution_count": 37,
     "metadata": {},
     "output_type": "execute_result"
    }
   ],
   "source": [
    "edx.duplicated().sum()"
   ]
  },
  {
   "cell_type": "code",
   "execution_count": 38,
   "metadata": {},
   "outputs": [],
   "source": [
    "edx.drop_duplicates(inplace=True)"
   ]
  },
  {
   "cell_type": "code",
   "execution_count": 39,
   "metadata": {},
   "outputs": [
    {
     "data": {
      "text/plain": [
       "0"
      ]
     },
     "execution_count": 39,
     "metadata": {},
     "output_type": "execute_result"
    }
   ],
   "source": [
    "edx.duplicated().sum()"
   ]
  },
  {
   "cell_type": "code",
   "execution_count": null,
   "metadata": {},
   "outputs": [],
   "source": []
  }
 ],
 "metadata": {
  "kernelspec": {
   "display_name": "Python 3",
   "language": "python",
   "name": "python3"
  },
  "language_info": {
   "codemirror_mode": {
    "name": "ipython",
    "version": 3
   },
   "file_extension": ".py",
   "mimetype": "text/x-python",
   "name": "python",
   "nbconvert_exporter": "python",
   "pygments_lexer": "ipython3",
   "version": "3.9.6"
  },
  "orig_nbformat": 4
 },
 "nbformat": 4,
 "nbformat_minor": 2
}
